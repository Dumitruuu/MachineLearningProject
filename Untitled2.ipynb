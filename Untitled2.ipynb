{
 "cells": [
  {
   "cell_type": "code",
   "execution_count": 79,
   "id": "229e7077",
   "metadata": {},
   "outputs": [
    {
     "name": "stdout",
     "output_type": "stream",
     "text": [
      "   SeniorCitizen  tenure  MonthlyCharges  customerID_0003-MKNFE  \\\n",
      "0              0       1           29.85                      0   \n",
      "1              0      34           56.95                      0   \n",
      "2              0       2           53.85                      0   \n",
      "3              0      45           42.30                      0   \n",
      "4              0       2           70.70                      0   \n",
      "\n",
      "   customerID_0004-TLHLJ  customerID_0011-IGKFF  customerID_0013-EXCHZ  \\\n",
      "0                      0                      0                      0   \n",
      "1                      0                      0                      0   \n",
      "2                      0                      0                      0   \n",
      "3                      0                      0                      0   \n",
      "4                      0                      0                      0   \n",
      "\n",
      "   customerID_0013-MHZWF  customerID_0013-SMEOE  customerID_0014-BMAQU  ...  \\\n",
      "0                      0                      0                      0  ...   \n",
      "1                      0                      0                      0  ...   \n",
      "2                      0                      0                      0  ...   \n",
      "3                      0                      0                      0  ...   \n",
      "4                      0                      0                      0  ...   \n",
      "\n",
      "   TotalCharges_996.45  TotalCharges_996.85  TotalCharges_996.95  \\\n",
      "0                    0                    0                    0   \n",
      "1                    0                    0                    0   \n",
      "2                    0                    0                    0   \n",
      "3                    0                    0                    0   \n",
      "4                    0                    0                    0   \n",
      "\n",
      "   TotalCharges_997.65  TotalCharges_997.75  TotalCharges_998.1  \\\n",
      "0                    0                    0                   0   \n",
      "1                    0                    0                   0   \n",
      "2                    0                    0                   0   \n",
      "3                    0                    0                   0   \n",
      "4                    0                    0                   0   \n",
      "\n",
      "   TotalCharges_999.45  TotalCharges_999.8  TotalCharges_999.9  Churn_Yes  \n",
      "0                    0                   0                   0          0  \n",
      "1                    0                   0                   0          0  \n",
      "2                    0                   0                   0          1  \n",
      "3                    0                   0                   0          0  \n",
      "4                    0                   0                   0          1  \n",
      "\n",
      "[5 rows x 13602 columns]\n"
     ]
    }
   ],
   "source": [
    "from sklearn.model_selection import train_test_split\n",
    "import pandas as pd\n",
    "df = pd.read_csv('WA_Fn-UseC_-Telco-Customer-Churn.csv')\n",
    "\n",
    "x = df.columns\n",
    "df_copy=pd.get_dummies(df_copy,drop_first=True)\n",
    "df_copy.head()\n",
    "x = []\n",
    "\n",
    "y = df['Churn'][:10]\n",
    "print(df_copy.head())\n",
    "\n"
   ]
  },
  {
   "cell_type": "code",
   "execution_count": null,
   "id": "548c2a32",
   "metadata": {},
   "outputs": [],
   "source": []
  },
  {
   "cell_type": "code",
   "execution_count": null,
   "id": "ed99509f",
   "metadata": {},
   "outputs": [],
   "source": []
  }
 ],
 "metadata": {
  "kernelspec": {
   "display_name": "Python 3 (ipykernel)",
   "language": "python",
   "name": "python3"
  },
  "language_info": {
   "codemirror_mode": {
    "name": "ipython",
    "version": 3
   },
   "file_extension": ".py",
   "mimetype": "text/x-python",
   "name": "python",
   "nbconvert_exporter": "python",
   "pygments_lexer": "ipython3",
   "version": "3.10.4"
  }
 },
 "nbformat": 4,
 "nbformat_minor": 5
}
